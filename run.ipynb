{
 "cells": [
  {
   "cell_type": "code",
   "execution_count": 1,
   "metadata": {},
   "outputs": [],
   "source": [
    "import numpy as np\n",
    "from implementations import *\n",
    "from helpers import *\n",
    "from functions import *\n",
    "\n",
    "# Load original data\n",
    "_, _, y_train, train_ids, test_ids = load_csv_data(data_path='data\\\\dataset')\n",
    "\n",
    "# Load cleaned test data\n",
    "x_test = np.load('new_data/cleaned_test_data.npy')\n",
    "\n",
    "# load best parameters from file\n",
    "weights = np.load('weights.npy')"
   ]
  },
  {
   "cell_type": "code",
   "execution_count": 2,
   "metadata": {},
   "outputs": [],
   "source": [
    "# standardize test data\n",
    "x_test_norm = standardize(x_test)\n",
    "x_test_norm = np.hstack((np.reshape(np.ones(x_test_norm.shape[0]), (x_test_norm.shape[0],1)), x_test_norm))\n",
    "\n",
    "# Train the model\n",
    "pred = sigmoid(np.dot(x_test_norm, weights)) > 0.5\n",
    "\n",
    "# Convert the predictions to -1 and 1\n",
    "pred = np.where(pred == 0, -1, 1)\n",
    "\n",
    "# create submission\n",
    "create_csv_submission(test_ids, pred, 'final_submission.csv')"
   ]
  }
 ],
 "metadata": {
  "kernelspec": {
   "display_name": ".venv",
   "language": "python",
   "name": "python3"
  },
  "language_info": {
   "codemirror_mode": {
    "name": "ipython",
    "version": 3
   },
   "file_extension": ".py",
   "mimetype": "text/x-python",
   "name": "python",
   "nbconvert_exporter": "python",
   "pygments_lexer": "ipython3",
   "version": "3.12.5"
  }
 },
 "nbformat": 4,
 "nbformat_minor": 2
}
